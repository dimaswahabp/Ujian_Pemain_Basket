{
 "cells": [
  {
   "cell_type": "code",
   "execution_count": 1,
   "metadata": {},
   "outputs": [],
   "source": [
    "import pandas as pd\n",
    "import numpy as np"
   ]
  },
  {
   "cell_type": "code",
   "execution_count": 2,
   "metadata": {},
   "outputs": [
    {
     "data": {
      "text/html": [
       "<div>\n",
       "<style scoped>\n",
       "    .dataframe tbody tr th:only-of-type {\n",
       "        vertical-align: middle;\n",
       "    }\n",
       "\n",
       "    .dataframe tbody tr th {\n",
       "        vertical-align: top;\n",
       "    }\n",
       "\n",
       "    .dataframe thead th {\n",
       "        text-align: right;\n",
       "    }\n",
       "</style>\n",
       "<table border=\"1\" class=\"dataframe\">\n",
       "  <thead>\n",
       "    <tr style=\"text-align: right;\">\n",
       "      <th></th>\n",
       "      <th>Age</th>\n",
       "      <th>Height</th>\n",
       "      <th>Weight</th>\n",
       "      <th>Avg Points</th>\n",
       "      <th>Avg Rebounds</th>\n",
       "    </tr>\n",
       "  </thead>\n",
       "  <tbody>\n",
       "    <tr>\n",
       "      <td>0</td>\n",
       "      <td>23</td>\n",
       "      <td>195</td>\n",
       "      <td>90</td>\n",
       "      <td>4</td>\n",
       "      <td>1</td>\n",
       "    </tr>\n",
       "    <tr>\n",
       "      <td>1</td>\n",
       "      <td>27</td>\n",
       "      <td>210</td>\n",
       "      <td>106</td>\n",
       "      <td>0</td>\n",
       "      <td>0</td>\n",
       "    </tr>\n",
       "    <tr>\n",
       "      <td>2</td>\n",
       "      <td>30</td>\n",
       "      <td>208</td>\n",
       "      <td>106</td>\n",
       "      <td>4</td>\n",
       "      <td>1</td>\n",
       "    </tr>\n",
       "    <tr>\n",
       "      <td>3</td>\n",
       "      <td>29</td>\n",
       "      <td>210</td>\n",
       "      <td>111</td>\n",
       "      <td>7</td>\n",
       "      <td>4</td>\n",
       "    </tr>\n",
       "    <tr>\n",
       "      <td>4</td>\n",
       "      <td>22</td>\n",
       "      <td>205</td>\n",
       "      <td>106</td>\n",
       "      <td>3</td>\n",
       "      <td>1</td>\n",
       "    </tr>\n",
       "  </tbody>\n",
       "</table>\n",
       "</div>"
      ],
      "text/plain": [
       "   Age  Height  Weight  Avg Points  Avg Rebounds\n",
       "0   23     195      90           4             1\n",
       "1   27     210     106           0             0\n",
       "2   30     208     106           4             1\n",
       "3   29     210     111           7             4\n",
       "4   22     205     106           3             1"
      ]
     },
     "execution_count": 2,
     "metadata": {},
     "output_type": "execute_result"
    }
   ],
   "source": [
    "player = pd.read_csv(\"all_seasons.csv\", sep = \",\")\n",
    "player = player[[\"age\", \"player_height\", \"player_weight\", \"pts\", \"reb\"]]\n",
    "player = player.rename(columns = {\"age\": \"Age\", \"player_height\": \"Height\", \"player_weight\": \"Weight\", \"pts\": \"Avg Points\", \"reb\": \"Avg Rebounds\"})\n",
    "player[\"Age\"] = player[\"Age\"].astype(int)\n",
    "player[\"Height\"] = player[\"Height\"].astype(int)\n",
    "player[\"Weight\"] = player[\"Weight\"].astype(int)\n",
    "player[\"Avg Points\"] = player[\"Avg Points\"].astype(int)\n",
    "player[\"Avg Rebounds\"] = player[\"Avg Rebounds\"].astype(int)\n",
    "player.head()"
   ]
  },
  {
   "cell_type": "code",
   "execution_count": 3,
   "metadata": {},
   "outputs": [
    {
     "data": {
      "text/plain": [
       "array([[-0.99674183, -0.58813059, -0.81730315, -0.61726116, -0.84600361],\n",
       "       [-0.07727165,  1.02972208,  0.43267452, -1.29654684, -1.24475345],\n",
       "       [ 0.61233098,  0.81400839,  0.43267452, -0.61726116, -0.84600361],\n",
       "       ...,\n",
       "       [-0.53700674,  2.10829052,  1.52640499, -0.61726116,  0.74899575],\n",
       "       [-0.99674183,  1.02972208,  0.58892173,  0.06202452,  1.54649543],\n",
       "       [ 0.61233098,  0.27472416,  0.1201801 ,  1.25077445,  1.14774559]])"
      ]
     },
     "execution_count": 3,
     "metadata": {},
     "output_type": "execute_result"
    }
   ],
   "source": [
    "from sklearn.preprocessing import StandardScaler\n",
    "scaler = StandardScaler()\n",
    "scaler.fit(player[[\"Age\" ,\"Height\", \"Weight\", \"Avg Points\", \"Avg Rebounds\"]])\n",
    "z = scaler.fit_transform(player[[\"Age\" ,\"Height\", \"Weight\", \"Avg Points\", \"Avg Rebounds\"]])\n",
    "z"
   ]
  },
  {
   "cell_type": "code",
   "execution_count": 4,
   "metadata": {},
   "outputs": [
    {
     "data": {
      "text/html": [
       "<div>\n",
       "<style scoped>\n",
       "    .dataframe tbody tr th:only-of-type {\n",
       "        vertical-align: middle;\n",
       "    }\n",
       "\n",
       "    .dataframe tbody tr th {\n",
       "        vertical-align: top;\n",
       "    }\n",
       "\n",
       "    .dataframe thead th {\n",
       "        text-align: right;\n",
       "    }\n",
       "</style>\n",
       "<table border=\"1\" class=\"dataframe\">\n",
       "  <thead>\n",
       "    <tr style=\"text-align: right;\">\n",
       "      <th></th>\n",
       "      <th>Age</th>\n",
       "      <th>Height</th>\n",
       "      <th>Weight</th>\n",
       "      <th>Avg Points</th>\n",
       "      <th>Avg Rebounds</th>\n",
       "      <th>StdAge</th>\n",
       "      <th>StdHeight</th>\n",
       "      <th>StdWeight</th>\n",
       "      <th>StdAvg Points</th>\n",
       "      <th>StdAvg Rebounds</th>\n",
       "    </tr>\n",
       "  </thead>\n",
       "  <tbody>\n",
       "    <tr>\n",
       "      <td>0</td>\n",
       "      <td>23</td>\n",
       "      <td>195</td>\n",
       "      <td>90</td>\n",
       "      <td>4</td>\n",
       "      <td>1</td>\n",
       "      <td>-0.996742</td>\n",
       "      <td>-0.588131</td>\n",
       "      <td>-0.817303</td>\n",
       "      <td>-0.617261</td>\n",
       "      <td>-0.846004</td>\n",
       "    </tr>\n",
       "    <tr>\n",
       "      <td>1</td>\n",
       "      <td>27</td>\n",
       "      <td>210</td>\n",
       "      <td>106</td>\n",
       "      <td>0</td>\n",
       "      <td>0</td>\n",
       "      <td>-0.077272</td>\n",
       "      <td>1.029722</td>\n",
       "      <td>0.432675</td>\n",
       "      <td>-1.296547</td>\n",
       "      <td>-1.244753</td>\n",
       "    </tr>\n",
       "    <tr>\n",
       "      <td>2</td>\n",
       "      <td>30</td>\n",
       "      <td>208</td>\n",
       "      <td>106</td>\n",
       "      <td>4</td>\n",
       "      <td>1</td>\n",
       "      <td>0.612331</td>\n",
       "      <td>0.814008</td>\n",
       "      <td>0.432675</td>\n",
       "      <td>-0.617261</td>\n",
       "      <td>-0.846004</td>\n",
       "    </tr>\n",
       "    <tr>\n",
       "      <td>3</td>\n",
       "      <td>29</td>\n",
       "      <td>210</td>\n",
       "      <td>111</td>\n",
       "      <td>7</td>\n",
       "      <td>4</td>\n",
       "      <td>0.382463</td>\n",
       "      <td>1.029722</td>\n",
       "      <td>0.823293</td>\n",
       "      <td>-0.107797</td>\n",
       "      <td>0.350246</td>\n",
       "    </tr>\n",
       "    <tr>\n",
       "      <td>4</td>\n",
       "      <td>22</td>\n",
       "      <td>205</td>\n",
       "      <td>106</td>\n",
       "      <td>3</td>\n",
       "      <td>1</td>\n",
       "      <td>-1.226609</td>\n",
       "      <td>0.490438</td>\n",
       "      <td>0.432675</td>\n",
       "      <td>-0.787083</td>\n",
       "      <td>-0.846004</td>\n",
       "    </tr>\n",
       "  </tbody>\n",
       "</table>\n",
       "</div>"
      ],
      "text/plain": [
       "   Age  Height  Weight  Avg Points  Avg Rebounds    StdAge  StdHeight  \\\n",
       "0   23     195      90           4             1 -0.996742  -0.588131   \n",
       "1   27     210     106           0             0 -0.077272   1.029722   \n",
       "2   30     208     106           4             1  0.612331   0.814008   \n",
       "3   29     210     111           7             4  0.382463   1.029722   \n",
       "4   22     205     106           3             1 -1.226609   0.490438   \n",
       "\n",
       "   StdWeight  StdAvg Points  StdAvg Rebounds  \n",
       "0  -0.817303      -0.617261        -0.846004  \n",
       "1   0.432675      -1.296547        -1.244753  \n",
       "2   0.432675      -0.617261        -0.846004  \n",
       "3   0.823293      -0.107797         0.350246  \n",
       "4   0.432675      -0.787083        -0.846004  "
      ]
     },
     "execution_count": 4,
     "metadata": {},
     "output_type": "execute_result"
    }
   ],
   "source": [
    "player[\"StdAge\"] = z[:,0]\n",
    "player[\"StdHeight\"] = z[:,1]\n",
    "player[\"StdWeight\"] = z[:,2]\n",
    "player[\"StdAvg Points\"] = z[:,3]\n",
    "player[\"StdAvg Rebounds\"] = z[:,4]\n",
    "player.head()"
   ]
  },
  {
   "cell_type": "code",
   "execution_count": 6,
   "metadata": {},
   "outputs": [
    {
     "data": {
      "text/html": [
       "<div>\n",
       "<style scoped>\n",
       "    .dataframe tbody tr th:only-of-type {\n",
       "        vertical-align: middle;\n",
       "    }\n",
       "\n",
       "    .dataframe tbody tr th {\n",
       "        vertical-align: top;\n",
       "    }\n",
       "\n",
       "    .dataframe thead th {\n",
       "        text-align: right;\n",
       "    }\n",
       "</style>\n",
       "<table border=\"1\" class=\"dataframe\">\n",
       "  <thead>\n",
       "    <tr style=\"text-align: right;\">\n",
       "      <th></th>\n",
       "      <th>Name</th>\n",
       "      <th>Age</th>\n",
       "      <th>Height</th>\n",
       "      <th>Weight</th>\n",
       "      <th>Avg Points</th>\n",
       "      <th>Avg Rebounds</th>\n",
       "    </tr>\n",
       "  </thead>\n",
       "  <tbody>\n",
       "    <tr>\n",
       "      <td>0</td>\n",
       "      <td>Andakara Prastawa Dyaksa</td>\n",
       "      <td>24</td>\n",
       "      <td>190</td>\n",
       "      <td>90</td>\n",
       "      <td>7</td>\n",
       "      <td>6</td>\n",
       "    </tr>\n",
       "    <tr>\n",
       "      <td>1</td>\n",
       "      <td>Reggie Mononimbar</td>\n",
       "      <td>21</td>\n",
       "      <td>185</td>\n",
       "      <td>86</td>\n",
       "      <td>6</td>\n",
       "      <td>3</td>\n",
       "    </tr>\n",
       "    <tr>\n",
       "      <td>2</td>\n",
       "      <td>Hardianus Lakudu</td>\n",
       "      <td>23</td>\n",
       "      <td>178</td>\n",
       "      <td>83</td>\n",
       "      <td>10</td>\n",
       "      <td>3</td>\n",
       "    </tr>\n",
       "    <tr>\n",
       "      <td>3</td>\n",
       "      <td>Kevin Yonas Sitorus</td>\n",
       "      <td>26</td>\n",
       "      <td>185</td>\n",
       "      <td>75</td>\n",
       "      <td>11</td>\n",
       "      <td>4</td>\n",
       "    </tr>\n",
       "    <tr>\n",
       "      <td>4</td>\n",
       "      <td>Arki Dikania Wisnu</td>\n",
       "      <td>20</td>\n",
       "      <td>183</td>\n",
       "      <td>80</td>\n",
       "      <td>5</td>\n",
       "      <td>2</td>\n",
       "    </tr>\n",
       "    <tr>\n",
       "      <td>5</td>\n",
       "      <td>Laurentius Steven Oei</td>\n",
       "      <td>21</td>\n",
       "      <td>191</td>\n",
       "      <td>85</td>\n",
       "      <td>4</td>\n",
       "      <td>10</td>\n",
       "    </tr>\n",
       "    <tr>\n",
       "      <td>6</td>\n",
       "      <td>Mei Joni</td>\n",
       "      <td>25</td>\n",
       "      <td>188</td>\n",
       "      <td>90</td>\n",
       "      <td>7</td>\n",
       "      <td>5</td>\n",
       "    </tr>\n",
       "    <tr>\n",
       "      <td>7</td>\n",
       "      <td>Vincent Rivaldi Kosasih</td>\n",
       "      <td>23</td>\n",
       "      <td>179</td>\n",
       "      <td>87</td>\n",
       "      <td>1</td>\n",
       "      <td>2</td>\n",
       "    </tr>\n",
       "    <tr>\n",
       "      <td>8</td>\n",
       "      <td>Hardian Wicaksono</td>\n",
       "      <td>21</td>\n",
       "      <td>177</td>\n",
       "      <td>80</td>\n",
       "      <td>9</td>\n",
       "      <td>8</td>\n",
       "    </tr>\n",
       "    <tr>\n",
       "      <td>9</td>\n",
       "      <td>Brandon Jawato</td>\n",
       "      <td>24</td>\n",
       "      <td>182</td>\n",
       "      <td>85</td>\n",
       "      <td>6</td>\n",
       "      <td>5</td>\n",
       "    </tr>\n",
       "  </tbody>\n",
       "</table>\n",
       "</div>"
      ],
      "text/plain": [
       "                       Name  Age  Height  Weight  Avg Points  Avg Rebounds\n",
       "0  Andakara Prastawa Dyaksa   24     190      90           7             6\n",
       "1         Reggie Mononimbar   21     185      86           6             3\n",
       "2          Hardianus Lakudu   23     178      83          10             3\n",
       "3       Kevin Yonas Sitorus   26     185      75          11             4\n",
       "4        Arki Dikania Wisnu   20     183      80           5             2\n",
       "5     Laurentius Steven Oei   21     191      85           4            10\n",
       "6                  Mei Joni   25     188      90           7             5\n",
       "7   Vincent Rivaldi Kosasih   23     179      87           1             2\n",
       "8         Hardian Wicaksono   21     177      80           9             8\n",
       "9            Brandon Jawato   24     182      85           6             5"
      ]
     },
     "execution_count": 6,
     "metadata": {},
     "output_type": "execute_result"
    }
   ],
   "source": [
    "layak = [\n",
    "    {\"Name\" : \"Andakara Prastawa Dyaksa\", \"Club\" : \"Pelita Jaya Bakrie\", \"Country\" : \"Indonesia\", \"Age\" : 24, \"Height\" : 190, \"Weight\" : 90, \"Avg Points\" : 7, \"Avg Rebounds\" : 6},\n",
    "    {\"Name\" : \"Reggie Mononimbar\", \"Club\" : \"Pelita Jaya Bakrie\", \"Country\" : \"Indonesia\", \"Age\" : 21, \"Height\" : 185, \"Weight\" : 86, \"Avg Points\" : 6, \"Avg Rebounds\" : 3},\n",
    "    {\"Name\" : \"Hardianus Lakudu\", \"Club\" : \"Satria Muda Pertamina Jakarta\", \"Country\" : \"Indonesia\", \"Age\" : 23, \"Height\" : 178, \"Weight\" : 83, \"Avg Points\" : 10, \"Avg Rebounds\" : 3},\n",
    "    {\"Name\" : \"Kevin Yonas Sitorus\", \"Club\" : \"Satria Muda Pertamina Jakarta\", \"Country\" : \"Indonesia\", \"Age\" : 26, \"Height\" : 185, \"Weight\" : 75, \"Avg Points\" : 11, \"Avg Rebounds\" : 4},\n",
    "    {\"Name\" : \"Arki Dikania Wisnu\", \"Club\" : \"Satria Muda Pertamina Jakarta\", \"Country\" : \"Indonesia\", \"Age\" : 20, \"Height\" : 183, \"Weight\" : 80, \"Avg Points\" : 5, \"Avg Rebounds\" : 2},\n",
    "    {\"Name\" : \"Laurentius Steven Oei\", \"Club\" : \"Satria Muda Pertamina Jakarta\", \"Country\" : \"Indonesia\", \"Age\" : 21, \"Height\" : 191, \"Weight\" : 85, \"Avg Points\" : 4, \"Avg Rebounds\" : 10},\n",
    "    {\"Name\" : \"Mei Joni\", \"Club\" : \"Stapac\", \"Country\" : \"Indonesia\", \"Age\" : 25, \"Height\" : 188, \"Weight\" : 90, \"Avg Points\" : 7, \"Avg Rebounds\" : 5},\n",
    "    {\"Name\" : \"Vincent Rivaldi Kosasih\", \"Club\" : \"Stapac\", \"Country\" : \"Indonesia\", \"Age\" : 23, \"Height\" : 179, \"Weight\" : 87, \"Avg Points\" : 1, \"Avg Rebounds\" : 2},\n",
    "    {\"Name\" : \"Hardian Wicaksono\", \"Club\" : \"Pacific Caesar Surabaya\", \"Country\" : \"Indonesia\", \"Age\" : 21, \"Height\" : 177, \"Weight\" : 80, \"Avg Points\" : 9, \"Avg Rebounds\" : 8},\n",
    "    {\"Name\" : \"Brandon Jawato\", \"Club\" : \"Louvre Surabaya\", \"Country\" : \"Indonesia\", \"Age\" : 24, \"Height\" : 182, \"Weight\" : 85, \"Avg Points\" : 6, \"Avg Rebounds\" : 5}\n",
    "]\n",
    "\n",
    "scouting = pd.DataFrame(layak)\n",
    "scouting = scouting[[\"Name\", \"Age\", \"Height\", \"Weight\", \"Avg Points\", \"Avg Rebounds\"]]\n",
    "scouting"
   ]
  },
  {
   "cell_type": "code",
   "execution_count": 7,
   "metadata": {},
   "outputs": [],
   "source": [
    "scouting = scouting[[\"Name\", \"Age\", \"Height\", \"Weight\", \"Avg Points\", \"Avg Rebounds\"]]"
   ]
  },
  {
   "cell_type": "code",
   "execution_count": 11,
   "metadata": {},
   "outputs": [
    {
     "data": {
      "text/plain": [
       "array([[ 0.63599873,  1.32911403,  1.31632171,  0.14285714,  0.48349378],\n",
       "       [-0.95399809,  0.25724788,  0.42390021, -0.21428571, -0.72524067],\n",
       "       [ 0.10599979, -1.24336474, -0.24541591,  1.21428571, -0.72524067],\n",
       "       [ 1.69599661,  0.25724788, -2.0302589 ,  1.57142857, -0.32232919],\n",
       "       [-1.48399703, -0.17149859, -0.91473203, -0.57142857, -1.12815215],\n",
       "       [-0.95399809,  1.54348727,  0.20079484, -0.92857143,  2.09513971],\n",
       "       [ 1.16599767,  0.90036757,  1.31632171,  0.14285714,  0.0805823 ],\n",
       "       [ 0.10599979, -1.02899151,  0.64700558, -2.        , -1.12815215],\n",
       "       [-0.95399809, -1.45773797, -0.91473203,  0.85714286,  1.28931674],\n",
       "       [ 0.63599873, -0.38587182,  0.20079484, -0.21428571,  0.0805823 ]])"
      ]
     },
     "execution_count": 11,
     "metadata": {},
     "output_type": "execute_result"
    }
   ],
   "source": [
    "scaler1 = StandardScaler()\n",
    "scaler.fit(scouting[[\"Age\" ,\"Height\", \"Weight\", \"Avg Points\", \"Avg Rebounds\"]])\n",
    "az = scaler.fit_transform(scouting[[\"Age\" ,\"Height\", \"Weight\", \"Avg Points\", \"Avg Rebounds\"]])\n",
    "az"
   ]
  },
  {
   "cell_type": "code",
   "execution_count": 12,
   "metadata": {},
   "outputs": [
    {
     "data": {
      "text/plain": [
       "array([ 105,  290,  314,  432,  659,  835,  874, 1018, 1032, 1062, 1135,\n",
       "       1141, 1332, 1351, 1436, 1515, 1516, 1720, 1727, 1748, 1875, 1951,\n",
       "       2004, 2018, 2047, 2101, 2114, 2143, 2203, 2259, 2394, 2398, 2484,\n",
       "       2544, 2551, 2616, 2631, 2704, 2836, 2840, 2873, 2984, 3010, 3081,\n",
       "       3159, 3329, 3376, 3389, 3441, 3449, 3529, 3558, 3573, 3629, 3704,\n",
       "       3717, 3721, 3830, 3994, 4036, 4039, 4068, 4121, 4124, 4252, 4267,\n",
       "       4271, 4374, 4385, 4422, 4482, 4483, 4502, 4528, 4547, 4556, 4613,\n",
       "       4624, 4633, 4665, 4762, 4775, 4782, 4800, 4924, 5015, 5070, 5154,\n",
       "       5156, 5164, 5229, 5274, 5292, 5293, 5383, 5390, 5512, 5521, 5522,\n",
       "       5548, 5587, 5609, 5675, 5743, 5747, 5820, 5914, 5952, 5954, 6001,\n",
       "       6014, 6040, 6089, 6098, 6183, 6263, 6272, 6277, 6304, 6343, 6360,\n",
       "       6408, 6409, 6441, 6450, 6542, 6555, 6639, 6710, 6752, 6810, 6822,\n",
       "       6871, 6926, 6959, 6979, 7009, 7040, 7059, 7073, 7091, 7094, 7148,\n",
       "       7184, 7199, 7305, 7306, 7342, 7365, 7369, 7389, 7478, 7491, 7521,\n",
       "       7549, 7601, 7643, 7654, 7655, 7720, 7739, 7821, 7827, 7900, 7904,\n",
       "       7935, 7950, 7983, 8003, 8022, 8051, 8060, 8096, 8131, 8177, 8191,\n",
       "       8197, 8275, 8289, 8321, 8432, 8437, 8447, 8453, 8470, 8478, 8586,\n",
       "       8591, 8603, 8623, 8700, 8705, 8718, 8740, 8755, 8766, 8779, 8891,\n",
       "       8894, 8897, 8935, 8986, 8992, 8999, 9026, 9031, 9078, 9129, 9150,\n",
       "       9159, 9174, 9208, 9234, 9276, 9333, 9345, 9371, 9431, 9485, 9522,\n",
       "       9555, 9557], dtype=int64)"
      ]
     },
     "execution_count": 12,
     "metadata": {},
     "output_type": "execute_result"
    }
   ],
   "source": [
    "prospect = player[(player[\"Age\"] <= 25) & (player[\"Height\"] >= 180) & (player[\"Weight\"] <= 90) & (player[\"Avg Points\"] >= 6) & (player[\"Avg Rebounds\"] >= 3)]\n",
    "prospect.index.values"
   ]
  },
  {
   "cell_type": "code",
   "execution_count": 13,
   "metadata": {},
   "outputs": [
    {
     "data": {
      "text/html": [
       "<div>\n",
       "<style scoped>\n",
       "    .dataframe tbody tr th:only-of-type {\n",
       "        vertical-align: middle;\n",
       "    }\n",
       "\n",
       "    .dataframe tbody tr th {\n",
       "        vertical-align: top;\n",
       "    }\n",
       "\n",
       "    .dataframe thead th {\n",
       "        text-align: right;\n",
       "    }\n",
       "</style>\n",
       "<table border=\"1\" class=\"dataframe\">\n",
       "  <thead>\n",
       "    <tr style=\"text-align: right;\">\n",
       "      <th></th>\n",
       "      <th>Age</th>\n",
       "      <th>Height</th>\n",
       "      <th>Weight</th>\n",
       "      <th>Avg Points</th>\n",
       "      <th>Avg Rebounds</th>\n",
       "      <th>StdAge</th>\n",
       "      <th>StdHeight</th>\n",
       "      <th>StdWeight</th>\n",
       "      <th>StdAvg Points</th>\n",
       "      <th>StdAvg Rebounds</th>\n",
       "      <th>Target</th>\n",
       "    </tr>\n",
       "  </thead>\n",
       "  <tbody>\n",
       "    <tr>\n",
       "      <td>0</td>\n",
       "      <td>23</td>\n",
       "      <td>195</td>\n",
       "      <td>90</td>\n",
       "      <td>4</td>\n",
       "      <td>1</td>\n",
       "      <td>-0.996742</td>\n",
       "      <td>-0.588131</td>\n",
       "      <td>-0.817303</td>\n",
       "      <td>-0.617261</td>\n",
       "      <td>-0.846004</td>\n",
       "      <td>0</td>\n",
       "    </tr>\n",
       "    <tr>\n",
       "      <td>1</td>\n",
       "      <td>27</td>\n",
       "      <td>210</td>\n",
       "      <td>106</td>\n",
       "      <td>0</td>\n",
       "      <td>0</td>\n",
       "      <td>-0.077272</td>\n",
       "      <td>1.029722</td>\n",
       "      <td>0.432675</td>\n",
       "      <td>-1.296547</td>\n",
       "      <td>-1.244753</td>\n",
       "      <td>0</td>\n",
       "    </tr>\n",
       "    <tr>\n",
       "      <td>2</td>\n",
       "      <td>30</td>\n",
       "      <td>208</td>\n",
       "      <td>106</td>\n",
       "      <td>4</td>\n",
       "      <td>1</td>\n",
       "      <td>0.612331</td>\n",
       "      <td>0.814008</td>\n",
       "      <td>0.432675</td>\n",
       "      <td>-0.617261</td>\n",
       "      <td>-0.846004</td>\n",
       "      <td>0</td>\n",
       "    </tr>\n",
       "    <tr>\n",
       "      <td>3</td>\n",
       "      <td>29</td>\n",
       "      <td>210</td>\n",
       "      <td>111</td>\n",
       "      <td>7</td>\n",
       "      <td>4</td>\n",
       "      <td>0.382463</td>\n",
       "      <td>1.029722</td>\n",
       "      <td>0.823293</td>\n",
       "      <td>-0.107797</td>\n",
       "      <td>0.350246</td>\n",
       "      <td>0</td>\n",
       "    </tr>\n",
       "    <tr>\n",
       "      <td>4</td>\n",
       "      <td>22</td>\n",
       "      <td>205</td>\n",
       "      <td>106</td>\n",
       "      <td>3</td>\n",
       "      <td>1</td>\n",
       "      <td>-1.226609</td>\n",
       "      <td>0.490438</td>\n",
       "      <td>0.432675</td>\n",
       "      <td>-0.787083</td>\n",
       "      <td>-0.846004</td>\n",
       "      <td>0</td>\n",
       "    </tr>\n",
       "  </tbody>\n",
       "</table>\n",
       "</div>"
      ],
      "text/plain": [
       "   Age  Height  Weight  Avg Points  Avg Rebounds    StdAge  StdHeight  \\\n",
       "0   23     195      90           4             1 -0.996742  -0.588131   \n",
       "1   27     210     106           0             0 -0.077272   1.029722   \n",
       "2   30     208     106           4             1  0.612331   0.814008   \n",
       "3   29     210     111           7             4  0.382463   1.029722   \n",
       "4   22     205     106           3             1 -1.226609   0.490438   \n",
       "\n",
       "   StdWeight  StdAvg Points  StdAvg Rebounds  Target  \n",
       "0  -0.817303      -0.617261        -0.846004       0  \n",
       "1   0.432675      -1.296547        -1.244753       0  \n",
       "2   0.432675      -0.617261        -0.846004       0  \n",
       "3   0.823293      -0.107797         0.350246       0  \n",
       "4   0.432675      -0.787083        -0.846004       0  "
      ]
     },
     "execution_count": 13,
     "metadata": {},
     "output_type": "execute_result"
    }
   ],
   "source": [
    "player[\"Target\"] = player.apply(lambda player : 1 if (player[\"Age\"] <= 25) and \n",
    "                                                (player[\"Height\"] >= 180) and  \n",
    "                                                (player[\"Weight\"] <= 90) and  \n",
    "                                                (player[\"Avg Points\"] >= 6) and  \n",
    "                                                (player[\"Avg Rebounds\"] >= 3) else 0, axis = 1)\n",
    "player.head()"
   ]
  },
  {
   "cell_type": "markdown",
   "metadata": {},
   "source": [
    "### Logistic Regression (Splitting per model)"
   ]
  },
  {
   "cell_type": "code",
   "execution_count": 14,
   "metadata": {},
   "outputs": [
    {
     "name": "stdout",
     "output_type": "stream",
     "text": [
      "LogisticRegression(C=1.0, class_weight=None, dual=False, fit_intercept=True,\n",
      "                   intercept_scaling=1, l1_ratio=None, max_iter=100,\n",
      "                   multi_class='warn', n_jobs=None, penalty='l2',\n",
      "                   random_state=None, solver='lbfgs', tol=0.0001, verbose=0,\n",
      "                   warm_start=False)\n",
      "0.9802440441603719\n"
     ]
    }
   ],
   "source": [
    "from sklearn.model_selection import train_test_split\n",
    "xtr,xts,ytr,yts = train_test_split(player[['Age','Height','Weight', \"Avg Points\", \"Avg Rebounds\"]], player['Target'], test_size = .18)\n",
    "\n",
    "from sklearn.linear_model import LogisticRegression\n",
    "\n",
    "model = LogisticRegression(solver = \"lbfgs\")\n",
    "print(model.fit(xtr,ytr))\n",
    "print(model.score(xts,yts))"
   ]
  },
  {
   "cell_type": "code",
   "execution_count": 15,
   "metadata": {},
   "outputs": [
    {
     "data": {
      "text/plain": [
       "{'C': 1.0,\n",
       " 'class_weight': None,\n",
       " 'dual': False,\n",
       " 'fit_intercept': True,\n",
       " 'intercept_scaling': 1,\n",
       " 'l1_ratio': None,\n",
       " 'max_iter': 100,\n",
       " 'multi_class': 'warn',\n",
       " 'n_jobs': None,\n",
       " 'penalty': 'l2',\n",
       " 'random_state': None,\n",
       " 'solver': 'lbfgs',\n",
       " 'tol': 0.0001,\n",
       " 'verbose': 0,\n",
       " 'warm_start': False}"
      ]
     },
     "execution_count": 15,
     "metadata": {},
     "output_type": "execute_result"
    }
   ],
   "source": [
    "penalty = [\"l2\"]\n",
    "solver = [\"newton-cg\", \"lbfgs\", \"liblinear\", \"sag\", \"saga\"]\n",
    "max_iter = [1, 10, 100, 1000, 10000]\n",
    "\n",
    "param = {\"penalty\": penalty, \"solver\": solver, \"max_iter\" : max_iter}\n",
    "model.get_params()"
   ]
  },
  {
   "cell_type": "code",
   "execution_count": 16,
   "metadata": {},
   "outputs": [
    {
     "name": "stderr",
     "output_type": "stream",
     "text": [
      "C:\\ProgramData\\Anaconda3\\lib\\site-packages\\scipy\\optimize\\linesearch.py:314: LineSearchWarning: The line search algorithm did not converge\n",
      "  warn('The line search algorithm did not converge', LineSearchWarning)\n",
      "C:\\ProgramData\\Anaconda3\\lib\\site-packages\\sklearn\\utils\\optimize.py:195: UserWarning: Line Search failed\n",
      "  warnings.warn('Line Search failed')\n",
      "C:\\ProgramData\\Anaconda3\\lib\\site-packages\\sklearn\\svm\\base.py:929: ConvergenceWarning: Liblinear failed to converge, increase the number of iterations.\n",
      "  \"the number of iterations.\", ConvergenceWarning)\n",
      "C:\\ProgramData\\Anaconda3\\lib\\site-packages\\sklearn\\svm\\base.py:929: ConvergenceWarning: Liblinear failed to converge, increase the number of iterations.\n",
      "  \"the number of iterations.\", ConvergenceWarning)\n",
      "C:\\ProgramData\\Anaconda3\\lib\\site-packages\\sklearn\\svm\\base.py:929: ConvergenceWarning: Liblinear failed to converge, increase the number of iterations.\n",
      "  \"the number of iterations.\", ConvergenceWarning)\n",
      "C:\\ProgramData\\Anaconda3\\lib\\site-packages\\sklearn\\svm\\base.py:929: ConvergenceWarning: Liblinear failed to converge, increase the number of iterations.\n",
      "  \"the number of iterations.\", ConvergenceWarning)\n",
      "C:\\ProgramData\\Anaconda3\\lib\\site-packages\\sklearn\\svm\\base.py:929: ConvergenceWarning: Liblinear failed to converge, increase the number of iterations.\n",
      "  \"the number of iterations.\", ConvergenceWarning)\n",
      "C:\\ProgramData\\Anaconda3\\lib\\site-packages\\sklearn\\linear_model\\sag.py:337: ConvergenceWarning: The max_iter was reached which means the coef_ did not converge\n",
      "  \"the coef_ did not converge\", ConvergenceWarning)\n",
      "C:\\ProgramData\\Anaconda3\\lib\\site-packages\\sklearn\\linear_model\\sag.py:337: ConvergenceWarning: The max_iter was reached which means the coef_ did not converge\n",
      "  \"the coef_ did not converge\", ConvergenceWarning)\n",
      "C:\\ProgramData\\Anaconda3\\lib\\site-packages\\sklearn\\linear_model\\sag.py:337: ConvergenceWarning: The max_iter was reached which means the coef_ did not converge\n",
      "  \"the coef_ did not converge\", ConvergenceWarning)\n",
      "C:\\ProgramData\\Anaconda3\\lib\\site-packages\\sklearn\\linear_model\\sag.py:337: ConvergenceWarning: The max_iter was reached which means the coef_ did not converge\n",
      "  \"the coef_ did not converge\", ConvergenceWarning)\n",
      "C:\\ProgramData\\Anaconda3\\lib\\site-packages\\sklearn\\linear_model\\sag.py:337: ConvergenceWarning: The max_iter was reached which means the coef_ did not converge\n",
      "  \"the coef_ did not converge\", ConvergenceWarning)\n",
      "C:\\ProgramData\\Anaconda3\\lib\\site-packages\\sklearn\\utils\\optimize.py:203: ConvergenceWarning: newton-cg failed to converge. Increase the number of iterations.\n",
      "  \"number of iterations.\", ConvergenceWarning)\n",
      "C:\\ProgramData\\Anaconda3\\lib\\site-packages\\sklearn\\utils\\optimize.py:203: ConvergenceWarning: newton-cg failed to converge. Increase the number of iterations.\n",
      "  \"number of iterations.\", ConvergenceWarning)\n",
      "C:\\ProgramData\\Anaconda3\\lib\\site-packages\\sklearn\\utils\\optimize.py:203: ConvergenceWarning: newton-cg failed to converge. Increase the number of iterations.\n",
      "  \"number of iterations.\", ConvergenceWarning)\n",
      "C:\\ProgramData\\Anaconda3\\lib\\site-packages\\sklearn\\utils\\optimize.py:203: ConvergenceWarning: newton-cg failed to converge. Increase the number of iterations.\n",
      "  \"number of iterations.\", ConvergenceWarning)\n",
      "C:\\ProgramData\\Anaconda3\\lib\\site-packages\\sklearn\\utils\\optimize.py:203: ConvergenceWarning: newton-cg failed to converge. Increase the number of iterations.\n",
      "  \"number of iterations.\", ConvergenceWarning)\n",
      "C:\\ProgramData\\Anaconda3\\lib\\site-packages\\sklearn\\svm\\base.py:929: ConvergenceWarning: Liblinear failed to converge, increase the number of iterations.\n",
      "  \"the number of iterations.\", ConvergenceWarning)\n",
      "C:\\ProgramData\\Anaconda3\\lib\\site-packages\\sklearn\\svm\\base.py:929: ConvergenceWarning: Liblinear failed to converge, increase the number of iterations.\n",
      "  \"the number of iterations.\", ConvergenceWarning)\n",
      "C:\\ProgramData\\Anaconda3\\lib\\site-packages\\sklearn\\svm\\base.py:929: ConvergenceWarning: Liblinear failed to converge, increase the number of iterations.\n",
      "  \"the number of iterations.\", ConvergenceWarning)\n",
      "C:\\ProgramData\\Anaconda3\\lib\\site-packages\\sklearn\\svm\\base.py:929: ConvergenceWarning: Liblinear failed to converge, increase the number of iterations.\n",
      "  \"the number of iterations.\", ConvergenceWarning)\n",
      "C:\\ProgramData\\Anaconda3\\lib\\site-packages\\sklearn\\svm\\base.py:929: ConvergenceWarning: Liblinear failed to converge, increase the number of iterations.\n",
      "  \"the number of iterations.\", ConvergenceWarning)\n",
      "C:\\ProgramData\\Anaconda3\\lib\\site-packages\\sklearn\\linear_model\\sag.py:337: ConvergenceWarning: The max_iter was reached which means the coef_ did not converge\n",
      "  \"the coef_ did not converge\", ConvergenceWarning)\n",
      "C:\\ProgramData\\Anaconda3\\lib\\site-packages\\sklearn\\linear_model\\sag.py:337: ConvergenceWarning: The max_iter was reached which means the coef_ did not converge\n",
      "  \"the coef_ did not converge\", ConvergenceWarning)\n",
      "C:\\ProgramData\\Anaconda3\\lib\\site-packages\\sklearn\\linear_model\\sag.py:337: ConvergenceWarning: The max_iter was reached which means the coef_ did not converge\n",
      "  \"the coef_ did not converge\", ConvergenceWarning)\n",
      "C:\\ProgramData\\Anaconda3\\lib\\site-packages\\sklearn\\linear_model\\sag.py:337: ConvergenceWarning: The max_iter was reached which means the coef_ did not converge\n",
      "  \"the coef_ did not converge\", ConvergenceWarning)\n",
      "C:\\ProgramData\\Anaconda3\\lib\\site-packages\\sklearn\\linear_model\\sag.py:337: ConvergenceWarning: The max_iter was reached which means the coef_ did not converge\n",
      "  \"the coef_ did not converge\", ConvergenceWarning)\n"
     ]
    },
    {
     "data": {
      "text/plain": [
       "{'solver': 'newton-cg', 'penalty': 'l2', 'max_iter': 100}"
      ]
     },
     "execution_count": 16,
     "metadata": {},
     "output_type": "execute_result"
    }
   ],
   "source": [
    "from sklearn.model_selection import RandomizedSearchCV\n",
    "model = LogisticRegression()\n",
    "modelrs = RandomizedSearchCV(estimator = model, param_distributions = param, cv = 5)\n",
    "modelrs.fit(xtr, ytr)\n",
    "modelrs.best_params_"
   ]
  },
  {
   "cell_type": "code",
   "execution_count": 18,
   "metadata": {},
   "outputs": [
    {
     "name": "stdout",
     "output_type": "stream",
     "text": [
      "LogisticRegression(C=1.0, class_weight=None, dual=False, fit_intercept=True,\n",
      "                   intercept_scaling=1, l1_ratio=None, max_iter=10000,\n",
      "                   multi_class='warn', n_jobs=None, penalty='l2',\n",
      "                   random_state=None, solver='newton-cg', tol=0.0001, verbose=0,\n",
      "                   warm_start=False)\n",
      "0.9802440441603719\n"
     ]
    }
   ],
   "source": [
    "modelHPTLR = LogisticRegression(solver = \"newton-cg\", penalty = \"l2\", max_iter = 10000)\n",
    "print(modelHPTLR.fit(xtr,ytr))\n",
    "print(modelHPTLR.score(xts,yts))"
   ]
  },
  {
   "cell_type": "markdown",
   "metadata": {},
   "source": [
    "### Evaluation Metrics"
   ]
  },
  {
   "cell_type": "code",
   "execution_count": 20,
   "metadata": {},
   "outputs": [
    {
     "ename": "NotFittedError",
     "evalue": "This LogisticRegression instance is not fitted yet",
     "output_type": "error",
     "traceback": [
      "\u001b[1;31m---------------------------------------------------------------------------\u001b[0m",
      "\u001b[1;31mNotFittedError\u001b[0m                            Traceback (most recent call last)",
      "\u001b[1;32m<ipython-input-20-ccefdd3f0acb>\u001b[0m in \u001b[0;36m<module>\u001b[1;34m\u001b[0m\n\u001b[0;32m      4\u001b[0m \u001b[1;32mfrom\u001b[0m \u001b[0msklearn\u001b[0m\u001b[1;33m.\u001b[0m\u001b[0mmetrics\u001b[0m \u001b[1;32mimport\u001b[0m \u001b[0mrecall_score\u001b[0m\u001b[1;33m\u001b[0m\u001b[1;33m\u001b[0m\u001b[0m\n\u001b[0;32m      5\u001b[0m \u001b[1;32mfrom\u001b[0m \u001b[0msklearn\u001b[0m\u001b[1;33m.\u001b[0m\u001b[0mmetrics\u001b[0m \u001b[1;32mimport\u001b[0m \u001b[0mroc_auc_score\u001b[0m\u001b[1;33m\u001b[0m\u001b[1;33m\u001b[0m\u001b[0m\n\u001b[1;32m----> 6\u001b[1;33m \u001b[0mypred\u001b[0m \u001b[1;33m=\u001b[0m \u001b[0mmodel\u001b[0m\u001b[1;33m.\u001b[0m\u001b[0mpredict\u001b[0m\u001b[1;33m(\u001b[0m\u001b[0mxts\u001b[0m\u001b[1;33m)\u001b[0m\u001b[1;33m\u001b[0m\u001b[1;33m\u001b[0m\u001b[0m\n\u001b[0m\u001b[0;32m      7\u001b[0m \u001b[0mprint\u001b[0m\u001b[1;33m(\u001b[0m\u001b[0mbalanced_accuracy_score\u001b[0m\u001b[1;33m(\u001b[0m\u001b[0myts\u001b[0m\u001b[1;33m,\u001b[0m \u001b[0mypred\u001b[0m\u001b[1;33m)\u001b[0m\u001b[1;33m)\u001b[0m\u001b[1;33m\u001b[0m\u001b[1;33m\u001b[0m\u001b[0m\n\u001b[0;32m      8\u001b[0m \u001b[0mprint\u001b[0m\u001b[1;33m(\u001b[0m\u001b[0mprecision_score\u001b[0m\u001b[1;33m(\u001b[0m\u001b[0myts\u001b[0m\u001b[1;33m,\u001b[0m \u001b[0mypred\u001b[0m\u001b[1;33m)\u001b[0m\u001b[1;33m)\u001b[0m\u001b[1;33m\u001b[0m\u001b[1;33m\u001b[0m\u001b[0m\n",
      "\u001b[1;32mC:\\ProgramData\\Anaconda3\\lib\\site-packages\\sklearn\\linear_model\\base.py\u001b[0m in \u001b[0;36mpredict\u001b[1;34m(self, X)\u001b[0m\n\u001b[0;32m    287\u001b[0m             \u001b[0mPredicted\u001b[0m \u001b[1;32mclass\u001b[0m \u001b[0mlabel\u001b[0m \u001b[0mper\u001b[0m \u001b[0msample\u001b[0m\u001b[1;33m.\u001b[0m\u001b[1;33m\u001b[0m\u001b[1;33m\u001b[0m\u001b[0m\n\u001b[0;32m    288\u001b[0m         \"\"\"\n\u001b[1;32m--> 289\u001b[1;33m         \u001b[0mscores\u001b[0m \u001b[1;33m=\u001b[0m \u001b[0mself\u001b[0m\u001b[1;33m.\u001b[0m\u001b[0mdecision_function\u001b[0m\u001b[1;33m(\u001b[0m\u001b[0mX\u001b[0m\u001b[1;33m)\u001b[0m\u001b[1;33m\u001b[0m\u001b[1;33m\u001b[0m\u001b[0m\n\u001b[0m\u001b[0;32m    290\u001b[0m         \u001b[1;32mif\u001b[0m \u001b[0mlen\u001b[0m\u001b[1;33m(\u001b[0m\u001b[0mscores\u001b[0m\u001b[1;33m.\u001b[0m\u001b[0mshape\u001b[0m\u001b[1;33m)\u001b[0m \u001b[1;33m==\u001b[0m \u001b[1;36m1\u001b[0m\u001b[1;33m:\u001b[0m\u001b[1;33m\u001b[0m\u001b[1;33m\u001b[0m\u001b[0m\n\u001b[0;32m    291\u001b[0m             \u001b[0mindices\u001b[0m \u001b[1;33m=\u001b[0m \u001b[1;33m(\u001b[0m\u001b[0mscores\u001b[0m \u001b[1;33m>\u001b[0m \u001b[1;36m0\u001b[0m\u001b[1;33m)\u001b[0m\u001b[1;33m.\u001b[0m\u001b[0mastype\u001b[0m\u001b[1;33m(\u001b[0m\u001b[0mnp\u001b[0m\u001b[1;33m.\u001b[0m\u001b[0mint\u001b[0m\u001b[1;33m)\u001b[0m\u001b[1;33m\u001b[0m\u001b[1;33m\u001b[0m\u001b[0m\n",
      "\u001b[1;32mC:\\ProgramData\\Anaconda3\\lib\\site-packages\\sklearn\\linear_model\\base.py\u001b[0m in \u001b[0;36mdecision_function\u001b[1;34m(self, X)\u001b[0m\n\u001b[0;32m    261\u001b[0m         \u001b[1;32mif\u001b[0m \u001b[1;32mnot\u001b[0m \u001b[0mhasattr\u001b[0m\u001b[1;33m(\u001b[0m\u001b[0mself\u001b[0m\u001b[1;33m,\u001b[0m \u001b[1;34m'coef_'\u001b[0m\u001b[1;33m)\u001b[0m \u001b[1;32mor\u001b[0m \u001b[0mself\u001b[0m\u001b[1;33m.\u001b[0m\u001b[0mcoef_\u001b[0m \u001b[1;32mis\u001b[0m \u001b[1;32mNone\u001b[0m\u001b[1;33m:\u001b[0m\u001b[1;33m\u001b[0m\u001b[1;33m\u001b[0m\u001b[0m\n\u001b[0;32m    262\u001b[0m             raise NotFittedError(\"This %(name)s instance is not fitted \"\n\u001b[1;32m--> 263\u001b[1;33m                                  \"yet\" % {'name': type(self).__name__})\n\u001b[0m\u001b[0;32m    264\u001b[0m \u001b[1;33m\u001b[0m\u001b[0m\n\u001b[0;32m    265\u001b[0m         \u001b[0mX\u001b[0m \u001b[1;33m=\u001b[0m \u001b[0mcheck_array\u001b[0m\u001b[1;33m(\u001b[0m\u001b[0mX\u001b[0m\u001b[1;33m,\u001b[0m \u001b[0maccept_sparse\u001b[0m\u001b[1;33m=\u001b[0m\u001b[1;34m'csr'\u001b[0m\u001b[1;33m)\u001b[0m\u001b[1;33m\u001b[0m\u001b[1;33m\u001b[0m\u001b[0m\n",
      "\u001b[1;31mNotFittedError\u001b[0m: This LogisticRegression instance is not fitted yet"
     ]
    }
   ],
   "source": [
    "from sklearn.metrics import balanced_accuracy_score\n",
    "from sklearn.metrics import f1_score\n",
    "from sklearn.metrics import precision_score\n",
    "from sklearn.metrics import recall_score\n",
    "from sklearn.metrics import roc_auc_score\n",
    "ypred = model.predict(xts)\n",
    "print(balanced_accuracy_score(yts, ypred))\n",
    "print(precision_score(yts, ypred))\n",
    "print(recall_score(yts, ypred))\n",
    "print(f1_score(yts, ypred))\n",
    "print(roc_auc_score(yts, ypred))\n",
    "print(ypred[:10])\n",
    "print(yts[:10])"
   ]
  },
  {
   "cell_type": "markdown",
   "metadata": {},
   "source": [
    "### Decision Tree (Splitting per model)"
   ]
  },
  {
   "cell_type": "code",
   "execution_count": 21,
   "metadata": {},
   "outputs": [
    {
     "name": "stdout",
     "output_type": "stream",
     "text": [
      "DecisionTreeClassifier(class_weight=None, criterion='gini', max_depth=None,\n",
      "                       max_features=None, max_leaf_nodes=None,\n",
      "                       min_impurity_decrease=0.0, min_impurity_split=None,\n",
      "                       min_samples_leaf=1, min_samples_split=2,\n",
      "                       min_weight_fraction_leaf=0.0, presort=False,\n",
      "                       random_state=None, splitter='best')\n",
      "1.0\n"
     ]
    }
   ],
   "source": [
    "from sklearn.model_selection import train_test_split\n",
    "\n",
    "xtr,xts,ytr,yts = train_test_split(player[['Age','Height','Weight', \"Avg Points\", \"Avg Rebounds\"]], player['Target'], test_size = .18)\n",
    "\n",
    "from sklearn import tree\n",
    "\n",
    "model1 = tree.DecisionTreeClassifier()\n",
    "print(model1.fit(xtr,ytr))\n",
    "print(model1.score(xts,yts))"
   ]
  },
  {
   "cell_type": "code",
   "execution_count": 22,
   "metadata": {},
   "outputs": [
    {
     "data": {
      "text/plain": [
       "<bound method BaseEstimator.get_params of DecisionTreeClassifier(class_weight=None, criterion='gini', max_depth=None,\n",
       "                       max_features=None, max_leaf_nodes=None,\n",
       "                       min_impurity_decrease=0.0, min_impurity_split=None,\n",
       "                       min_samples_leaf=1, min_samples_split=2,\n",
       "                       min_weight_fraction_leaf=0.0, presort=False,\n",
       "                       random_state=None, splitter='best')>"
      ]
     },
     "execution_count": 22,
     "metadata": {},
     "output_type": "execute_result"
    }
   ],
   "source": [
    "model1.get_params"
   ]
  },
  {
   "cell_type": "code",
   "execution_count": 23,
   "metadata": {},
   "outputs": [],
   "source": [
    "param2 = {\"class_weight\" : [None], \n",
    "          \"criterion\" : ['gini'], \n",
    "          \"max_depth\" : [10, 20, 30, 40, 50, 60, 70, 80, 90, 100, None] ,\n",
    "          \"max_features\" : [None], \n",
    "          \"max_leaf_nodes\" : [None],\n",
    "          \"min_impurity_decrease\" : [0.0], \n",
    "          \"min_impurity_split\" : [None],\n",
    "          \"min_samples_leaf\" : [1], \n",
    "          \"min_samples_split\" : [2],\n",
    "          \"min_weight_fraction_leaf\" : [0.0], \n",
    "          \"presort\" : [True, False],\n",
    "          \"random_state\" : [None], \n",
    "          \"splitter\": ['best']}"
   ]
  },
  {
   "cell_type": "code",
   "execution_count": 24,
   "metadata": {},
   "outputs": [
    {
     "data": {
      "text/plain": [
       "{'splitter': 'best',\n",
       " 'random_state': None,\n",
       " 'presort': False,\n",
       " 'min_weight_fraction_leaf': 0.0,\n",
       " 'min_samples_split': 2,\n",
       " 'min_samples_leaf': 1,\n",
       " 'min_impurity_split': None,\n",
       " 'min_impurity_decrease': 0.0,\n",
       " 'max_leaf_nodes': None,\n",
       " 'max_features': None,\n",
       " 'max_depth': None,\n",
       " 'criterion': 'gini',\n",
       " 'class_weight': None}"
      ]
     },
     "execution_count": 24,
     "metadata": {},
     "output_type": "execute_result"
    }
   ],
   "source": [
    "modelrs = RandomizedSearchCV(estimator = model1, param_distributions = param2, cv = 5)\n",
    "modelrs.fit(xtr, ytr)\n",
    "modelrs.best_params_"
   ]
  },
  {
   "cell_type": "code",
   "execution_count": 25,
   "metadata": {},
   "outputs": [
    {
     "name": "stdout",
     "output_type": "stream",
     "text": [
      "DecisionTreeClassifier(class_weight=None, criterion='gini', max_depth=80,\n",
      "                       max_features=None, max_leaf_nodes=None,\n",
      "                       min_impurity_decrease=0.0, min_impurity_split=None,\n",
      "                       min_samples_leaf=1, min_samples_split=2,\n",
      "                       min_weight_fraction_leaf=0.0, presort=False,\n",
      "                       random_state=None, splitter='best')\n",
      "1.0\n"
     ]
    }
   ],
   "source": [
    "modelHPTDT = tree.DecisionTreeClassifier(splitter = \"best\", random_state = None, presort = False, min_weight_fraction_leaf = 0.0,\n",
    "                                         min_samples_split = 2, min_samples_leaf = 1, min_impurity_split = None, min_impurity_decrease = 0.0,\n",
    "                                         max_leaf_nodes = None, max_features = None, max_depth = 80, criterion = 'gini',\n",
    "                                         class_weight = None)\n",
    "print(modelHPTDT.fit(xtr,ytr))\n",
    "print(modelHPTDT.score(xts,yts))"
   ]
  },
  {
   "cell_type": "markdown",
   "metadata": {},
   "source": [
    "### Evaluation Metrics"
   ]
  },
  {
   "cell_type": "code",
   "execution_count": 26,
   "metadata": {},
   "outputs": [
    {
     "name": "stdout",
     "output_type": "stream",
     "text": [
      "1.0\n",
      "1.0\n",
      "1.0\n",
      "1.0\n",
      "1.0\n",
      "[0 0 0 0 0 0 0 0 0 0]\n",
      "6672    0\n",
      "5069    0\n",
      "6951    0\n",
      "2253    0\n",
      "2797    0\n",
      "2914    0\n",
      "9317    0\n",
      "2289    0\n",
      "8464    0\n",
      "5530    0\n",
      "Name: Target, dtype: int64\n"
     ]
    }
   ],
   "source": [
    "ypred = model1.predict(xts)\n",
    "print(balanced_accuracy_score(yts, ypred))\n",
    "print(precision_score(yts, ypred))\n",
    "print(recall_score(yts, ypred))\n",
    "print(f1_score(yts, ypred))\n",
    "print(roc_auc_score(yts, ypred))\n",
    "print(ypred[:10])\n",
    "print(yts[:10])"
   ]
  },
  {
   "cell_type": "markdown",
   "metadata": {},
   "source": [
    "### Random Forest (Splitting per model)"
   ]
  },
  {
   "cell_type": "code",
   "execution_count": 27,
   "metadata": {},
   "outputs": [
    {
     "name": "stdout",
     "output_type": "stream",
     "text": [
      "RandomForestClassifier(bootstrap=True, class_weight=None, criterion='gini',\n",
      "                       max_depth=2, max_features='auto', max_leaf_nodes=None,\n",
      "                       min_impurity_decrease=0.0, min_impurity_split=None,\n",
      "                       min_samples_leaf=1, min_samples_split=2,\n",
      "                       min_weight_fraction_leaf=0.0, n_estimators=100,\n",
      "                       n_jobs=None, oob_score=False, random_state=None,\n",
      "                       verbose=0, warm_start=False)\n",
      "0.9767576990122022\n"
     ]
    }
   ],
   "source": [
    "from sklearn.model_selection import train_test_split\n",
    "\n",
    "xtr,xts,ytr,yts = train_test_split(player[['Age','Height','Weight', \"Avg Points\", \"Avg Rebounds\"]], player['Target'], test_size = .18)\n",
    "\n",
    "from sklearn.ensemble import RandomForestClassifier\n",
    "\n",
    "model2 = RandomForestClassifier(n_estimators = 100, max_depth = 2)\n",
    "print(model2.fit(xtr,ytr))\n",
    "print(model2.score(xts,yts))"
   ]
  },
  {
   "cell_type": "code",
   "execution_count": 28,
   "metadata": {},
   "outputs": [
    {
     "data": {
      "text/plain": [
       "{'bootstrap': True,\n",
       " 'class_weight': None,\n",
       " 'criterion': 'gini',\n",
       " 'max_depth': 2,\n",
       " 'max_features': 'auto',\n",
       " 'max_leaf_nodes': None,\n",
       " 'min_impurity_decrease': 0.0,\n",
       " 'min_impurity_split': None,\n",
       " 'min_samples_leaf': 1,\n",
       " 'min_samples_split': 2,\n",
       " 'min_weight_fraction_leaf': 0.0,\n",
       " 'n_estimators': 100,\n",
       " 'n_jobs': None,\n",
       " 'oob_score': False,\n",
       " 'random_state': None,\n",
       " 'verbose': 0,\n",
       " 'warm_start': False}"
      ]
     },
     "execution_count": 28,
     "metadata": {},
     "output_type": "execute_result"
    }
   ],
   "source": [
    "param1 = {'bootstrap': [True, False],\n",
    "          'max_depth': [10, 20, 30, 40, 50, 60, 70, 80, 90, 100, None],\n",
    "          'max_features': ['auto', 'sqrt'],\n",
    "          'min_samples_leaf': [1, 2, 4],\n",
    "          'min_samples_split': [2, 5, 10],\n",
    "          'n_estimators': [200, 400, 600, 800, 1000, 1200, 1400, 1600, 1800, 2000]}\n",
    "model2.get_params()"
   ]
  },
  {
   "cell_type": "code",
   "execution_count": 29,
   "metadata": {},
   "outputs": [
    {
     "data": {
      "text/plain": [
       "{'n_estimators': 2000,\n",
       " 'min_samples_split': 10,\n",
       " 'min_samples_leaf': 1,\n",
       " 'max_features': 'sqrt',\n",
       " 'max_depth': 100,\n",
       " 'bootstrap': False}"
      ]
     },
     "execution_count": 29,
     "metadata": {},
     "output_type": "execute_result"
    }
   ],
   "source": [
    "modelrs = RandomizedSearchCV(estimator = model2, param_distributions = param1, cv = 5)\n",
    "modelrs.fit(xtr, ytr)\n",
    "modelrs.best_params_"
   ]
  },
  {
   "cell_type": "code",
   "execution_count": 30,
   "metadata": {},
   "outputs": [
    {
     "name": "stdout",
     "output_type": "stream",
     "text": [
      "RandomForestClassifier(bootstrap='False', class_weight=None, criterion='gini',\n",
      "                       max_depth=100, max_features='sqrt', max_leaf_nodes=None,\n",
      "                       min_impurity_decrease=0.0, min_impurity_split=None,\n",
      "                       min_samples_leaf=1, min_samples_split=10,\n",
      "                       min_weight_fraction_leaf=0.0, n_estimators=2000,\n",
      "                       n_jobs=None, oob_score=False, random_state=None,\n",
      "                       verbose=0, warm_start=False)\n",
      "1.0\n"
     ]
    }
   ],
   "source": [
    "modelHPTRF = RandomForestClassifier(n_estimators = 2000, min_samples_split = 10, min_samples_leaf = 1, max_features = \"sqrt\", max_depth = 100, bootstrap = \"False\")\n",
    "print(modelHPTRF.fit(xtr,ytr))\n",
    "print(modelHPTRF.score(xts,yts))"
   ]
  },
  {
   "cell_type": "markdown",
   "metadata": {},
   "source": [
    "### Evaluation Metrics"
   ]
  },
  {
   "cell_type": "code",
   "execution_count": 31,
   "metadata": {},
   "outputs": [
    {
     "name": "stdout",
     "output_type": "stream",
     "text": [
      "0.5\n",
      "0.0\n",
      "0.0\n",
      "0.0\n",
      "0.5\n",
      "[0 0 0 0 0 0 0 0 0 0]\n",
      "8526    0\n",
      "955     0\n",
      "5433    0\n",
      "8271    0\n",
      "2644    0\n",
      "1605    0\n",
      "3859    0\n",
      "6047    0\n",
      "3793    0\n",
      "1327    0\n",
      "Name: Target, dtype: int64\n"
     ]
    },
    {
     "name": "stderr",
     "output_type": "stream",
     "text": [
      "C:\\ProgramData\\Anaconda3\\lib\\site-packages\\sklearn\\metrics\\classification.py:1437: UndefinedMetricWarning: Precision is ill-defined and being set to 0.0 due to no predicted samples.\n",
      "  'precision', 'predicted', average, warn_for)\n",
      "C:\\ProgramData\\Anaconda3\\lib\\site-packages\\sklearn\\metrics\\classification.py:1437: UndefinedMetricWarning: F-score is ill-defined and being set to 0.0 due to no predicted samples.\n",
      "  'precision', 'predicted', average, warn_for)\n"
     ]
    }
   ],
   "source": [
    "ypred = model2.predict(xts)\n",
    "print(balanced_accuracy_score(yts, ypred))\n",
    "print(precision_score(yts, ypred))\n",
    "print(recall_score(yts, ypred))\n",
    "print(f1_score(yts, ypred))\n",
    "print(roc_auc_score(yts, ypred))\n",
    "print(ypred[:10])\n",
    "print(yts[:10])"
   ]
  },
  {
   "cell_type": "markdown",
   "metadata": {},
   "source": [
    "### Karena paling besar score dari Decision Tree, maka kita pakai model Decision Tree yang sudah di Hypertuning"
   ]
  },
  {
   "cell_type": "code",
   "execution_count": 33,
   "metadata": {},
   "outputs": [
    {
     "data": {
      "text/html": [
       "<div>\n",
       "<style scoped>\n",
       "    .dataframe tbody tr th:only-of-type {\n",
       "        vertical-align: middle;\n",
       "    }\n",
       "\n",
       "    .dataframe tbody tr th {\n",
       "        vertical-align: top;\n",
       "    }\n",
       "\n",
       "    .dataframe thead th {\n",
       "        text-align: right;\n",
       "    }\n",
       "</style>\n",
       "<table border=\"1\" class=\"dataframe\">\n",
       "  <thead>\n",
       "    <tr style=\"text-align: right;\">\n",
       "      <th></th>\n",
       "      <th>Name</th>\n",
       "      <th>Age</th>\n",
       "      <th>Height</th>\n",
       "      <th>Weight</th>\n",
       "      <th>Avg Points</th>\n",
       "      <th>Avg Rebounds</th>\n",
       "      <th>Recommendation</th>\n",
       "    </tr>\n",
       "  </thead>\n",
       "  <tbody>\n",
       "    <tr>\n",
       "      <td>0</td>\n",
       "      <td>Andakara Prastawa Dyaksa</td>\n",
       "      <td>24</td>\n",
       "      <td>190</td>\n",
       "      <td>90</td>\n",
       "      <td>7</td>\n",
       "      <td>6</td>\n",
       "      <td>1</td>\n",
       "    </tr>\n",
       "    <tr>\n",
       "      <td>1</td>\n",
       "      <td>Reggie Mononimbar</td>\n",
       "      <td>21</td>\n",
       "      <td>185</td>\n",
       "      <td>86</td>\n",
       "      <td>6</td>\n",
       "      <td>3</td>\n",
       "      <td>1</td>\n",
       "    </tr>\n",
       "    <tr>\n",
       "      <td>2</td>\n",
       "      <td>Hardianus Lakudu</td>\n",
       "      <td>23</td>\n",
       "      <td>178</td>\n",
       "      <td>83</td>\n",
       "      <td>10</td>\n",
       "      <td>3</td>\n",
       "      <td>0</td>\n",
       "    </tr>\n",
       "    <tr>\n",
       "      <td>3</td>\n",
       "      <td>Kevin Yonas Sitorus</td>\n",
       "      <td>26</td>\n",
       "      <td>185</td>\n",
       "      <td>75</td>\n",
       "      <td>11</td>\n",
       "      <td>4</td>\n",
       "      <td>0</td>\n",
       "    </tr>\n",
       "    <tr>\n",
       "      <td>4</td>\n",
       "      <td>Arki Dikania Wisnu</td>\n",
       "      <td>20</td>\n",
       "      <td>183</td>\n",
       "      <td>80</td>\n",
       "      <td>5</td>\n",
       "      <td>2</td>\n",
       "      <td>0</td>\n",
       "    </tr>\n",
       "    <tr>\n",
       "      <td>5</td>\n",
       "      <td>Laurentius Steven Oei</td>\n",
       "      <td>21</td>\n",
       "      <td>191</td>\n",
       "      <td>85</td>\n",
       "      <td>4</td>\n",
       "      <td>10</td>\n",
       "      <td>0</td>\n",
       "    </tr>\n",
       "    <tr>\n",
       "      <td>6</td>\n",
       "      <td>Mei Joni</td>\n",
       "      <td>25</td>\n",
       "      <td>188</td>\n",
       "      <td>90</td>\n",
       "      <td>7</td>\n",
       "      <td>5</td>\n",
       "      <td>1</td>\n",
       "    </tr>\n",
       "    <tr>\n",
       "      <td>7</td>\n",
       "      <td>Vincent Rivaldi Kosasih</td>\n",
       "      <td>23</td>\n",
       "      <td>179</td>\n",
       "      <td>87</td>\n",
       "      <td>1</td>\n",
       "      <td>2</td>\n",
       "      <td>0</td>\n",
       "    </tr>\n",
       "    <tr>\n",
       "      <td>8</td>\n",
       "      <td>Hardian Wicaksono</td>\n",
       "      <td>21</td>\n",
       "      <td>177</td>\n",
       "      <td>80</td>\n",
       "      <td>9</td>\n",
       "      <td>8</td>\n",
       "      <td>0</td>\n",
       "    </tr>\n",
       "    <tr>\n",
       "      <td>9</td>\n",
       "      <td>Brandon Jawato</td>\n",
       "      <td>24</td>\n",
       "      <td>182</td>\n",
       "      <td>85</td>\n",
       "      <td>6</td>\n",
       "      <td>5</td>\n",
       "      <td>1</td>\n",
       "    </tr>\n",
       "  </tbody>\n",
       "</table>\n",
       "</div>"
      ],
      "text/plain": [
       "                       Name  Age  Height  Weight  Avg Points  Avg Rebounds  \\\n",
       "0  Andakara Prastawa Dyaksa   24     190      90           7             6   \n",
       "1         Reggie Mononimbar   21     185      86           6             3   \n",
       "2          Hardianus Lakudu   23     178      83          10             3   \n",
       "3       Kevin Yonas Sitorus   26     185      75          11             4   \n",
       "4        Arki Dikania Wisnu   20     183      80           5             2   \n",
       "5     Laurentius Steven Oei   21     191      85           4            10   \n",
       "6                  Mei Joni   25     188      90           7             5   \n",
       "7   Vincent Rivaldi Kosasih   23     179      87           1             2   \n",
       "8         Hardian Wicaksono   21     177      80           9             8   \n",
       "9            Brandon Jawato   24     182      85           6             5   \n",
       "\n",
       "   Recommendation  \n",
       "0               1  \n",
       "1               1  \n",
       "2               0  \n",
       "3               0  \n",
       "4               0  \n",
       "5               0  \n",
       "6               1  \n",
       "7               0  \n",
       "8               0  \n",
       "9               1  "
      ]
     },
     "execution_count": 33,
     "metadata": {},
     "output_type": "execute_result"
    }
   ],
   "source": [
    "scouting[\"Recommendation\"] = modelHPTDT.predict(scouting[[\"Age\", \"Height\", \"Weight\", \"Avg Points\", \"Avg Rebounds\"]])\n",
    "scouting"
   ]
  },
  {
   "cell_type": "code",
   "execution_count": null,
   "metadata": {},
   "outputs": [],
   "source": []
  }
 ],
 "metadata": {
  "kernelspec": {
   "display_name": "Python 3",
   "language": "python",
   "name": "python3"
  },
  "language_info": {
   "codemirror_mode": {
    "name": "ipython",
    "version": 3
   },
   "file_extension": ".py",
   "mimetype": "text/x-python",
   "name": "python",
   "nbconvert_exporter": "python",
   "pygments_lexer": "ipython3",
   "version": "3.7.4"
  }
 },
 "nbformat": 4,
 "nbformat_minor": 4
}
